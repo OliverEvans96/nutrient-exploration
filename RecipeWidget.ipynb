{
 "cells": [
  {
   "cell_type": "code",
   "execution_count": 7,
   "metadata": {},
   "outputs": [],
   "source": [
    "import recipe"
   ]
  },
  {
   "cell_type": "markdown",
   "metadata": {},
   "source": [
    "## Ingredients Nutrition Data"
   ]
  },
  {
   "cell_type": "code",
   "execution_count": 8,
   "metadata": {},
   "outputs": [
    {
     "data": {
      "text/html": [
       "<div>\n",
       "<style scoped>\n",
       "    .dataframe tbody tr th:only-of-type {\n",
       "        vertical-align: middle;\n",
       "    }\n",
       "\n",
       "    .dataframe tbody tr th {\n",
       "        vertical-align: top;\n",
       "    }\n",
       "\n",
       "    .dataframe thead th {\n",
       "        text-align: right;\n",
       "    }\n",
       "</style>\n",
       "<table border=\"1\" class=\"dataframe\">\n",
       "  <thead>\n",
       "    <tr style=\"text-align: right;\">\n",
       "      <th></th>\n",
       "      <th>Broccoli</th>\n",
       "      <th>Carrots</th>\n",
       "      <th>Onions</th>\n",
       "      <th>Garlic</th>\n",
       "      <th>Tomatoes</th>\n",
       "    </tr>\n",
       "  </thead>\n",
       "  <tbody>\n",
       "    <tr>\n",
       "      <th>Calories (kcal/g)</th>\n",
       "      <td>0.3400</td>\n",
       "      <td>0.3400</td>\n",
       "      <td>0.4000</td>\n",
       "      <td>1.4900</td>\n",
       "      <td>0.1800</td>\n",
       "    </tr>\n",
       "    <tr>\n",
       "      <th>Cholesterol (mg/g)</th>\n",
       "      <td>0.0000</td>\n",
       "      <td>0.0000</td>\n",
       "      <td>0.0000</td>\n",
       "      <td>0.0000</td>\n",
       "      <td>0.0000</td>\n",
       "    </tr>\n",
       "    <tr>\n",
       "      <th>Dietary Fiber (g/g)</th>\n",
       "      <td>0.0260</td>\n",
       "      <td>0.0260</td>\n",
       "      <td>0.0170</td>\n",
       "      <td>0.0210</td>\n",
       "      <td>0.0120</td>\n",
       "    </tr>\n",
       "    <tr>\n",
       "      <th>Protein (g/g)</th>\n",
       "      <td>0.0282</td>\n",
       "      <td>0.0282</td>\n",
       "      <td>0.0110</td>\n",
       "      <td>0.0636</td>\n",
       "      <td>0.0088</td>\n",
       "    </tr>\n",
       "    <tr>\n",
       "      <th>Sodium (mg/g)</th>\n",
       "      <td>0.3300</td>\n",
       "      <td>0.3300</td>\n",
       "      <td>0.0400</td>\n",
       "      <td>0.1700</td>\n",
       "      <td>0.0500</td>\n",
       "    </tr>\n",
       "    <tr>\n",
       "      <th>Total Carbohydrate (g/g)</th>\n",
       "      <td>0.0664</td>\n",
       "      <td>0.0664</td>\n",
       "      <td>0.0934</td>\n",
       "      <td>0.3306</td>\n",
       "      <td>0.0389</td>\n",
       "    </tr>\n",
       "    <tr>\n",
       "      <th>Total Fat (g/g)</th>\n",
       "      <td>0.0037</td>\n",
       "      <td>0.0037</td>\n",
       "      <td>0.0010</td>\n",
       "      <td>0.0050</td>\n",
       "      <td>0.0020</td>\n",
       "    </tr>\n",
       "    <tr>\n",
       "      <th>Total Sugars (g/g)</th>\n",
       "      <td>0.0170</td>\n",
       "      <td>0.0170</td>\n",
       "      <td>0.0424</td>\n",
       "      <td>0.0100</td>\n",
       "      <td>0.0263</td>\n",
       "    </tr>\n",
       "  </tbody>\n",
       "</table>\n",
       "</div>"
      ],
      "text/plain": [
       "                          Broccoli  Carrots  Onions  Garlic  Tomatoes\n",
       "Calories (kcal/g)           0.3400   0.3400  0.4000  1.4900    0.1800\n",
       "Cholesterol (mg/g)          0.0000   0.0000  0.0000  0.0000    0.0000\n",
       "Dietary Fiber (g/g)         0.0260   0.0260  0.0170  0.0210    0.0120\n",
       "Protein (g/g)               0.0282   0.0282  0.0110  0.0636    0.0088\n",
       "Sodium (mg/g)               0.3300   0.3300  0.0400  0.1700    0.0500\n",
       "Total Carbohydrate (g/g)    0.0664   0.0664  0.0934  0.3306    0.0389\n",
       "Total Fat (g/g)             0.0037   0.0037  0.0010  0.0050    0.0020\n",
       "Total Sugars (g/g)          0.0170   0.0170  0.0424  0.0100    0.0263"
      ]
     },
     "execution_count": 8,
     "metadata": {},
     "output_type": "execute_result"
    }
   ],
   "source": [
    "recipe.nutrient_info_df"
   ]
  },
  {
   "cell_type": "markdown",
   "metadata": {},
   "source": [
    "# Recipe Widget"
   ]
  },
  {
   "cell_type": "code",
   "execution_count": 13,
   "metadata": {},
   "outputs": [
    {
     "data": {
      "application/vnd.jupyter.widget-view+json": {
       "model_id": "21183cac26454fafb80ec54ae3966ac9",
       "version_major": 2,
       "version_minor": 0
      },
      "text/plain": [
       "RecipeWidget(children=(HBox(children=(Output(), Box(layout=Layout(width='15px')), VBox(children=(VBox(children…"
      ]
     },
     "metadata": {},
     "output_type": "display_data"
    }
   ],
   "source": [
    "recipe.RecipeWidget()"
   ]
  }
 ],
 "metadata": {
  "kernelspec": {
   "display_name": "Python 3",
   "language": "python",
   "name": "python3"
  },
  "language_info": {
   "codemirror_mode": {
    "name": "ipython",
    "version": 3
   },
   "file_extension": ".py",
   "mimetype": "text/x-python",
   "name": "python",
   "nbconvert_exporter": "python",
   "pygments_lexer": "ipython3",
   "version": "3.7.2"
  }
 },
 "nbformat": 4,
 "nbformat_minor": 2
}
