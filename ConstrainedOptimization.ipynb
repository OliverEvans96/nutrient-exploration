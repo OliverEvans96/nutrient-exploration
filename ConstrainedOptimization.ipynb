{
 "cells": [
  {
   "cell_type": "markdown",
   "metadata": {
    "toc-hr-collapsed": false
   },
   "source": [
    "# Estimate Ingredient Quantites from Nutrient Info\n",
    "\n",
    "Given a food product with an FDA label listing $d$ nutrient quantities (e.g. Calories, carbohydrates, etc.) and $p$ ingredients ordered by weight, we calculate the quantity of each ingredient in the product.\n",
    "\n",
    "We take a constrained optimization approach, seeking the optimal solution $x$ to the linear system $Ax=b$, where $A$ is a matrix describing the nutrient contents of the ingredients, $b$ is a vector listing the total nutrient contents of the products, and $x$ is the quantity of each ingredient.\n",
    "\n",
    "The system is subject to the following constraints:\n",
    "- All ingredient quantities are positive ($x>0$)\n",
    "- The ingredient quantities are ordered ($x_{i+1}>x_i$) as given in the ingredients list.\n",
    "\n",
    "**NOTE:** When the number of ingredients is greater than the number of nutrients on the FDA label (when $p>d$), there is no unique solution, and further analysis is required to construct bounds for the nutrient quantities. "
   ]
  },
  {
   "cell_type": "markdown",
   "metadata": {},
   "source": [
    "## Imports"
   ]
  },
  {
   "cell_type": "code",
   "execution_count": 1,
   "metadata": {},
   "outputs": [],
   "source": [
    "import re\n",
    "\n",
    "import numpy as np\n",
    "import scipy.optimize as optim"
   ]
  },
  {
   "cell_type": "code",
   "execution_count": 6,
   "metadata": {},
   "outputs": [],
   "source": [
    "import qgrid\n",
    "import pandas as pd"
   ]
  },
  {
   "cell_type": "code",
   "execution_count": 7,
   "metadata": {},
   "outputs": [],
   "source": [
    "import ipywidgets as ipw"
   ]
  },
  {
   "cell_type": "code",
   "execution_count": 8,
   "metadata": {},
   "outputs": [],
   "source": [
    "from IPython.display import display, Markdown"
   ]
  },
  {
   "cell_type": "markdown",
   "metadata": {},
   "source": [
    "## Synthesize Data"
   ]
  },
  {
   "cell_type": "code",
   "execution_count": 2,
   "metadata": {},
   "outputs": [],
   "source": [
    "def gen_data(d, p):\n",
    "    \"\"\"\n",
    "    d = Number of FDA requirements (known)\n",
    "    p = Number of ingredients\n",
    "    \"\"\"\n",
    "    \n",
    "    # Coefficient matrix:\n",
    "    # FDA nutrient info for each ingredient\n",
    "    # - each column is an ingredient\n",
    "    # - FDA nutrient varies over rows\n",
    "    # - Sorted in order of increasing quantity (first is smallest)\n",
    "    A = np.random.rand(d, p)\n",
    "\n",
    "    # Quantities of each ingredient, sorted in increasing order.\n",
    "    # (correct solution)\n",
    "    x = np.sort(np.random.rand(p))\n",
    "\n",
    "    # Sum FDA nutrients of the product\n",
    "    b = A@x\n",
    "    \n",
    "    return A, x, b"
   ]
  },
  {
   "cell_type": "markdown",
   "metadata": {},
   "source": [
    "## Solve optimization problem"
   ]
  },
  {
   "cell_type": "code",
   "execution_count": 3,
   "metadata": {},
   "outputs": [],
   "source": [
    "def estim_quantities(A, b, tol=None):\n",
    "    # Objective function\n",
    "    def obj(x):\n",
    "        return np.sum((A@x-b)**2)\n",
    "\n",
    "    # Ordering constraint matrix\n",
    "    # each row: c_i^T * x >= 0\n",
    "    C = np.zeros([p, p])\n",
    "    # Require that each value is larger than the previous\n",
    "    for i in range(p):\n",
    "        for j in range(p):\n",
    "            if i == j:\n",
    "                C[i,j] = 1\n",
    "            elif j == i-1:\n",
    "                C[i,j] = -1\n",
    "\n",
    "    # non-negative constraint (0 <= c_i^T *x <= inf)\n",
    "    lin_const = optim.LinearConstraint(C, 0, np.inf, keep_feasible=False)\n",
    "    \n",
    "    # Solve!\n",
    "    result = optim.minimize(obj, np.zeros(p), method=\"COBYLA\", constraints=lin_const, tol=tol)\n",
    "\n",
    "    return result"
   ]
  },
  {
   "cell_type": "markdown",
   "metadata": {},
   "source": [
    "## Apply some noise to simulate real data"
   ]
  },
  {
   "cell_type": "code",
   "execution_count": 4,
   "metadata": {},
   "outputs": [],
   "source": [
    "def apply_noise(A, z):\n",
    "    return A * (1.0 + z * 2*(np.random.rand(*np.shape(A))-0.5))"
   ]
  },
  {
   "cell_type": "markdown",
   "metadata": {},
   "source": [
    "## Test it out!"
   ]
  },
  {
   "cell_type": "code",
   "execution_count": 5,
   "metadata": {},
   "outputs": [
    {
     "name": "stdout",
     "output_type": "stream",
     "text": [
      "\n",
      "Without noise:\n",
      "rel. err. = 2.69e-03\n",
      "\n",
      "With noise (zA=5.00e-02, zb=5.00e-02):\n",
      "rel. err. = 1.47e-01\n"
     ]
    }
   ],
   "source": [
    "# Number of FDA requirements (known)\n",
    "d = 10\n",
    "# Number of ingredients\n",
    "p = 5\n",
    "# Relative noise to apply to A (reported FDA vals. for ingredients)\n",
    "zA = 0.05\n",
    "# Relative noise to apply to b (reported FDA vals. for product)\n",
    "zb = 0.05\n",
    "\n",
    "# Generate data & apply noise\n",
    "A, x, b = gen_data(d, p)\n",
    "A_noise = apply_noise(A, zA)\n",
    "b_noise = apply_noise(b, zb)\n",
    "\n",
    "#print(\"x = {}\".format(x))\n",
    "print()\n",
    "\n",
    "print(\"Without noise:\")\n",
    "res = estim_quantities(A, b)\n",
    "x_star = res.x\n",
    "#print(\"x* = {}\".format(x_star))\n",
    "print(\"rel. err. = {:.2e}\".format(np.linalg.norm(x-x_star)/np.linalg.norm(x)))\n",
    "print()\n",
    "\n",
    "print(\"With noise (zA={:.2e}, zb={:.2e}):\".format(zA, zb))\n",
    "res = estim_quantities(A_noise, b_noise)\n",
    "x_star = res.x\n",
    "#print(\"x_n* = {}\".format(x_star))\n",
    "print(\"rel. err. = {:.2e}\".format(np.linalg.norm(x-x_star)/np.linalg.norm(x)))"
   ]
  },
  {
   "cell_type": "markdown",
   "metadata": {},
   "source": [
    "## FDA Nutrient Table"
   ]
  },
  {
   "cell_type": "code",
   "execution_count": 112,
   "metadata": {},
   "outputs": [],
   "source": [
    "def disp_nutrient_table(nutrients, vals):\n",
    "    display(Markdown(\n",
    "        \"| Nutrient | Value |\\n|---|---|\\n\"\n",
    "        + '\\n'.join([\n",
    "            \"| {} | {:.2f} |\".format(nutrient, val)\n",
    "            for nutrient, val in zip(nutrients, vals)\n",
    "        ])\n",
    "    ))\n",
    "\n",
    "    \n",
    "def gen_fda_label(ingredients, nutrients, vals):\n",
    "    inner_tab = ipw.Output()\n",
    "    with inner_tab:\n",
    "        disp_table(nutrients, vals)\n",
    "    return ipw.VBox(\n",
    "        [\n",
    "            ipw.HTML(\"<h2>Nutrition Facts</h2>\",),\n",
    "            inner_tab,\n",
    "            ipw.Box(layout=ipw.Layout(height='5px')),\n",
    "            ipw.HTML(\"<b>Ingredients:</b> {}\".format(\n",
    "                ', '.join(ingredients)\n",
    "            ))\n",
    "            \n",
    "        ],\n",
    "        layout=ipw.Layout(\n",
    "            border='1px solid black',\n",
    "            width='200px',\n",
    "            align_items='center',\n",
    "        )\n",
    "    )"
   ]
  },
  {
   "cell_type": "code",
   "execution_count": 113,
   "metadata": {},
   "outputs": [],
   "source": [
    "ingredients = [\n",
    "    'tomato',\n",
    "    'sugar',\n",
    "    'onion',\n",
    "    'garlic',\n",
    "    'squash'\n",
    "]"
   ]
  },
  {
   "cell_type": "code",
   "execution_count": 116,
   "metadata": {},
   "outputs": [
    {
     "data": {
      "application/vnd.jupyter.widget-view+json": {
       "model_id": "6324dc90481d47e385ba7c9209e3ed05",
       "version_major": 2,
       "version_minor": 0
      },
      "text/plain": [
       "VBox(children=(HTML(value='<h2>Nutrition Facts</h2>'), Output(), Box(layout=Layout(height='5px')), HTML(value=…"
      ]
     },
     "metadata": {},
     "output_type": "display_data"
    }
   ],
   "source": [
    "gen_fda_label(ingredients, nutrients, vals)"
   ]
  },
  {
   "cell_type": "markdown",
   "metadata": {},
   "source": [
    "## Ingredients Nutrition Data"
   ]
  },
  {
   "cell_type": "code",
   "execution_count": 177,
   "metadata": {},
   "outputs": [],
   "source": [
    "def parse_fda_db_csv(filename):\n",
    "    nutrient_name_map = {\n",
    "        'Calories': 'Energy',\n",
    "        'Total Fat': 'Total lipid (fat)',\n",
    "        'Cholesterol': 'Cholesterol',\n",
    "        'Sodium': 'Sodium, Na',\n",
    "        'Total Carbohydrate': 'Carbohydrate, by difference',\n",
    "        'Dietary Fiber': 'Fiber, total dietary',\n",
    "        'Total Sugars': 'Sugars, total',\n",
    "        'Protein': 'Protein'\n",
    "    }\n",
    "    \n",
    "    df = pd.read_csv(filename, skiprows=4, encoding='latin1')\n",
    "    nut_dict = {}\n",
    "    for name_common, name_db in nutrient_name_map.items():\n",
    "        filtered_df = df[df['Nutrient']==name_db]\n",
    "        if len(filtered_df) > 0:\n",
    "            # Convert from value per 100g to value per 1g\n",
    "            nut_val = filtered_df['1Value per 100 g'].iloc[0] / 100\n",
    "            nut_units = filtered_df['Unit'].iloc[0]\n",
    "            name_with_units = '{} ({}/g)'.format(name_common, nut_units)\n",
    "            nut_dict[name_with_units] = nut_val\n",
    "    return nut_dict"
   ]
  },
  {
   "cell_type": "code",
   "execution_count": 178,
   "metadata": {},
   "outputs": [
    {
     "data": {
      "text/plain": [
       "{'Calories (kcal/g)': 1.49,\n",
       " 'Total Fat (g/g)': 0.005,\n",
       " 'Cholesterol (mg/g)': 0.0,\n",
       " 'Sodium (mg/g)': 0.17,\n",
       " 'Total Carbohydrate (g/g)': 0.3306,\n",
       " 'Dietary Fiber (g/g)': 0.021,\n",
       " 'Total Sugars (g/g)': 0.01,\n",
       " 'Protein (g/g)': 0.0636}"
      ]
     },
     "execution_count": 178,
     "metadata": {},
     "output_type": "execute_result"
    }
   ],
   "source": [
    "parse_fda_db_csv('garlic.csv')"
   ]
  },
  {
   "cell_type": "code",
   "execution_count": 179,
   "metadata": {},
   "outputs": [],
   "source": [
    "ingredients = [\n",
    "    'Broccoli',\n",
    "    'Carrots',\n",
    "    'Onions',\n",
    "    'Garlic',\n",
    "    'Tomatoes'\n",
    "]"
   ]
  },
  {
   "cell_type": "code",
   "execution_count": 184,
   "metadata": {},
   "outputs": [],
   "source": [
    "nutrient_info = {\n",
    "    ingredient: parse_fda_db_csv('ingredient_data/{}.csv'.format(ingredient.lower()))\n",
    "    for ingredient in ingredients\n",
    "}"
   ]
  },
  {
   "cell_type": "code",
   "execution_count": 185,
   "metadata": {},
   "outputs": [
    {
     "data": {
      "text/html": [
       "<div>\n",
       "<style scoped>\n",
       "    .dataframe tbody tr th:only-of-type {\n",
       "        vertical-align: middle;\n",
       "    }\n",
       "\n",
       "    .dataframe tbody tr th {\n",
       "        vertical-align: top;\n",
       "    }\n",
       "\n",
       "    .dataframe thead th {\n",
       "        text-align: right;\n",
       "    }\n",
       "</style>\n",
       "<table border=\"1\" class=\"dataframe\">\n",
       "  <thead>\n",
       "    <tr style=\"text-align: right;\">\n",
       "      <th></th>\n",
       "      <th>Broccoli</th>\n",
       "      <th>Carrots</th>\n",
       "      <th>Onions</th>\n",
       "      <th>Garlic</th>\n",
       "      <th>Tomatoes</th>\n",
       "    </tr>\n",
       "  </thead>\n",
       "  <tbody>\n",
       "    <tr>\n",
       "      <th>Calories (kcal/g)</th>\n",
       "      <td>0.3400</td>\n",
       "      <td>0.3400</td>\n",
       "      <td>0.4000</td>\n",
       "      <td>1.4900</td>\n",
       "      <td>0.1800</td>\n",
       "    </tr>\n",
       "    <tr>\n",
       "      <th>Cholesterol (mg/g)</th>\n",
       "      <td>0.0000</td>\n",
       "      <td>0.0000</td>\n",
       "      <td>0.0000</td>\n",
       "      <td>0.0000</td>\n",
       "      <td>0.0000</td>\n",
       "    </tr>\n",
       "    <tr>\n",
       "      <th>Dietary Fiber (g/g)</th>\n",
       "      <td>0.0260</td>\n",
       "      <td>0.0260</td>\n",
       "      <td>0.0170</td>\n",
       "      <td>0.0210</td>\n",
       "      <td>0.0120</td>\n",
       "    </tr>\n",
       "    <tr>\n",
       "      <th>Protein (g/g)</th>\n",
       "      <td>0.0282</td>\n",
       "      <td>0.0282</td>\n",
       "      <td>0.0110</td>\n",
       "      <td>0.0636</td>\n",
       "      <td>0.0088</td>\n",
       "    </tr>\n",
       "    <tr>\n",
       "      <th>Sodium (mg/g)</th>\n",
       "      <td>0.3300</td>\n",
       "      <td>0.3300</td>\n",
       "      <td>0.0400</td>\n",
       "      <td>0.1700</td>\n",
       "      <td>0.0500</td>\n",
       "    </tr>\n",
       "    <tr>\n",
       "      <th>Total Carbohydrate (g/g)</th>\n",
       "      <td>0.0664</td>\n",
       "      <td>0.0664</td>\n",
       "      <td>0.0934</td>\n",
       "      <td>0.3306</td>\n",
       "      <td>0.0389</td>\n",
       "    </tr>\n",
       "    <tr>\n",
       "      <th>Total Fat (g/g)</th>\n",
       "      <td>0.0037</td>\n",
       "      <td>0.0037</td>\n",
       "      <td>0.0010</td>\n",
       "      <td>0.0050</td>\n",
       "      <td>0.0020</td>\n",
       "    </tr>\n",
       "    <tr>\n",
       "      <th>Total Sugars (g/g)</th>\n",
       "      <td>0.0170</td>\n",
       "      <td>0.0170</td>\n",
       "      <td>0.0424</td>\n",
       "      <td>0.0100</td>\n",
       "      <td>0.0263</td>\n",
       "    </tr>\n",
       "  </tbody>\n",
       "</table>\n",
       "</div>"
      ],
      "text/plain": [
       "                          Broccoli  Carrots  Onions  Garlic  Tomatoes\n",
       "Calories (kcal/g)           0.3400   0.3400  0.4000  1.4900    0.1800\n",
       "Cholesterol (mg/g)          0.0000   0.0000  0.0000  0.0000    0.0000\n",
       "Dietary Fiber (g/g)         0.0260   0.0260  0.0170  0.0210    0.0120\n",
       "Protein (g/g)               0.0282   0.0282  0.0110  0.0636    0.0088\n",
       "Sodium (mg/g)               0.3300   0.3300  0.0400  0.1700    0.0500\n",
       "Total Carbohydrate (g/g)    0.0664   0.0664  0.0934  0.3306    0.0389\n",
       "Total Fat (g/g)             0.0037   0.0037  0.0010  0.0050    0.0020\n",
       "Total Sugars (g/g)          0.0170   0.0170  0.0424  0.0100    0.0263"
      ]
     },
     "execution_count": 185,
     "metadata": {},
     "output_type": "execute_result"
    }
   ],
   "source": [
    "nutrient_info_df = pd.DataFrame(nutrient_info)\n",
    "nutrient_info_df"
   ]
  },
  {
   "cell_type": "code",
   "execution_count": 222,
   "metadata": {},
   "outputs": [],
   "source": [
    "example_recipe = {\n",
    "    'Tomatoes': 100,\n",
    "    'Onions': 50,\n",
    "    'Garlic': 30,\n",
    "    'Broccoli': 50,\n",
    "    'Carrots': 60\n",
    "}"
   ]
  },
  {
   "cell_type": "code",
   "execution_count": 376,
   "metadata": {},
   "outputs": [],
   "source": [
    "# String manipulation helpers\n",
    "def str_density_to_total(nut_str):\n",
    "    return re.sub(r'\\((.*)\\/g\\)', r'(\\1)', nut_str)\n",
    "\n",
    "def str_total_to_density(nut_str):\n",
    "    return re.sub(r'\\((.*)\\)', r'(\\1/g)', nut_str)"
   ]
  },
  {
   "cell_type": "code",
   "execution_count": 381,
   "metadata": {},
   "outputs": [],
   "source": [
    "def calculate_nutrition_facts(recipe, nutrient_info):\n",
    "    nutrition_facts = {\n",
    "        str_density_to_total(nutrient): 0.0\n",
    "        for nutrient in nutrient_info[list(nutrient_info.keys())[0]].keys()\n",
    "    }\n",
    "    \n",
    "    # quantities in grams\n",
    "    for ingredient, quantity in recipe.items():\n",
    "        for nutrient, value in nutrient_info[ingredient].items():\n",
    "            total_nutrient = str_density_to_total(nutrient)\n",
    "            nutrition_facts[total_nutrient] += quantity * value\n",
    "            \n",
    "    return nutrition_facts     "
   ]
  },
  {
   "cell_type": "code",
   "execution_count": 382,
   "metadata": {},
   "outputs": [],
   "source": [
    "def sort_ingredient_list(recipe):\n",
    "    # Return list of ingredients in decreasing order of quantity in grams\n",
    "    return [x[0] for x in reversed(sorted(recipe.items(), key=lambda x: x[1]))]"
   ]
  },
  {
   "cell_type": "code",
   "execution_count": 383,
   "metadata": {},
   "outputs": [
    {
     "data": {
      "text/plain": [
       "['Tomatoes', 'Carrots', 'Broccoli', 'Onions', 'Garlic']"
      ]
     },
     "execution_count": 383,
     "metadata": {},
     "output_type": "execute_result"
    }
   ],
   "source": [
    "ingredient_list = sort_ingredient_list(example_recipe)\n",
    "ingredient_list"
   ]
  },
  {
   "cell_type": "code",
   "execution_count": 384,
   "metadata": {},
   "outputs": [
    {
     "data": {
      "text/plain": [
       "{'Calories (kcal)': 120.10000000000001,\n",
       " 'Total Fat (g)': 0.8069999999999999,\n",
       " 'Cholesterol (mg)': 0.0,\n",
       " 'Sodium (mg)': 48.400000000000006,\n",
       " 'Total Carbohydrate (g)': 25.782000000000004,\n",
       " 'Dietary Fiber (g)': 5.539999999999999,\n",
       " 'Total Sugars (g)': 6.92,\n",
       " 'Protein (g)': 6.44}"
      ]
     },
     "execution_count": 384,
     "metadata": {},
     "output_type": "execute_result"
    }
   ],
   "source": [
    "nutrition_facts = calculate_nutrition_facts(example_recipe, nutrient_info)\n",
    "nutrition_facts"
   ]
  },
  {
   "cell_type": "code",
   "execution_count": 385,
   "metadata": {},
   "outputs": [
    {
     "data": {
      "application/vnd.jupyter.widget-view+json": {
       "model_id": "8152bf457c5545278ecdd93f440d77c2",
       "version_major": 2,
       "version_minor": 0
      },
      "text/plain": [
       "VBox(children=(HTML(value='<h2>Nutrition Facts</h2>'), Output(), Box(layout=Layout(height='5px')), HTML(value=…"
      ]
     },
     "metadata": {},
     "output_type": "display_data"
    }
   ],
   "source": [
    "gen_fda_label(ingredient_list, nutrition_facts.keys(), nutrition_facts.values())"
   ]
  },
  {
   "cell_type": "code",
   "execution_count": 535,
   "metadata": {},
   "outputs": [],
   "source": [
    "def gen_fda_label_from_recipe(recipe, nutrient_info):\n",
    "    ingredient_list = sort_ingredient_list(recipe)\n",
    "    nutrition_facts = calculate_nutrition_facts(recipe, nutrient_info)\n",
    "    return gen_fda_label(ingredient_list, nutrition_facts.keys(), nutrition_facts.values())"
   ]
  },
  {
   "cell_type": "code",
   "execution_count": 536,
   "metadata": {},
   "outputs": [
    {
     "data": {
      "application/vnd.jupyter.widget-view+json": {
       "model_id": "fcd5be5f1d27477fb21d0f01493309e7",
       "version_major": 2,
       "version_minor": 0
      },
      "text/plain": [
       "VBox(children=(HTML(value='<h2>Nutrition Facts</h2>'), Output(), Box(layout=Layout(height='5px')), HTML(value=…"
      ]
     },
     "metadata": {},
     "output_type": "display_data"
    }
   ],
   "source": [
    "gen_fda_label_from_recipe(example_recipe, nutrient_info)"
   ]
  },
  {
   "cell_type": "code",
   "execution_count": 532,
   "metadata": {},
   "outputs": [],
   "source": [
    "def recipe_wrapper(nutrient_info, **recipe):\n",
    "    return disp_fda_label_from_recipe(recipe, nutrient_info)"
   ]
  },
  {
   "cell_type": "code",
   "execution_count": 533,
   "metadata": {},
   "outputs": [],
   "source": []
  },
  {
   "cell_type": "code",
   "execution_count": 441,
   "metadata": {},
   "outputs": [],
   "source": [
    "def solve_recipe(recipe, nutrient_info):\n",
    "    nutrition_facts = calculate_nutrition_facts(recipe, nutrient_info)\n",
    "    # Sorted in decreasing order - have to reverse\n",
    "    sorted_ingredients = sort_ingredient_list(recipe)[::-1]\n",
    "\n",
    "    # Convert to correctly sorted arrays\n",
    "    df = pd.DataFrame(nutrient_info)\n",
    "    A = np.array(df[sorted_ingredients], dtype=float)\n",
    "\n",
    "    # Save order and values of nutrients\n",
    "    nutrients = list(map(str_density_to_total, df.index))\n",
    "    nutrient_vals = [nutrition_facts[nutrient] for nutrient in nutrients]\n",
    "    b = np.array(nutrient_vals, dtype=float)\n",
    "\n",
    "    # Solve\n",
    "    result = estim_quantities(A, b)\n",
    "    x = result.x\n",
    "    \n",
    "    # Convert back to recipe\n",
    "    estim_recipe = dict(zip(sorted_ingredients, x))\n",
    "    \n",
    "    return estim_recipe"
   ]
  },
  {
   "cell_type": "code",
   "execution_count": 592,
   "metadata": {},
   "outputs": [],
   "source": [
    "def gen_recipe_comparison(recipe, estim_recipe):\n",
    "    ingredients = list(recipe.keys())\n",
    "    x_true = np.array([recipe[ing] for ing in ingredients])\n",
    "    x_estim = np.array([estim_recipe[ing] for ing in ingredients])\n",
    "    individual_abs_errs = np.abs(x_true - x_estim)\n",
    "    individual_rel_errs = individual_abs_errs / x_true\n",
    "    \n",
    "    global_rel_err = np.linalg.norm(x_true-x_estim) / np.linalg.norm(x_true)\n",
    "    \n",
    "    data = np.array([x_true, x_estim, individual_abs_errs, 100*individual_rel_errs]).T\n",
    "    cols = ['True Recipe (g)', 'Estim. Recipe (g)', 'Abs. Error (g)', 'Rel. Error (%)']\n",
    "    df = pd.DataFrame(data, index=ingredients, columns=cols)\n",
    "    \n",
    "    out = ipw.Output()\n",
    "    with out:\n",
    "        display(HTML(\"<h3>Recipe Estimation Results</h3>\"))\n",
    "        display(ipw.Box(layout=ipw.Layout(height='5px')))\n",
    "        display(HTML(df.to_html(float_format=lambda s: '{:.2f}'.format(s))))\n",
    "        print(\"Global Relative Error: {:.2e}\".format(global_rel_err))\n",
    "    return out"
   ]
  },
  {
   "cell_type": "code",
   "execution_count": 593,
   "metadata": {},
   "outputs": [
    {
     "data": {
      "application/vnd.jupyter.widget-view+json": {
       "model_id": "89a3dc9477104174b5c6c706ef61b74b",
       "version_major": 2,
       "version_minor": 0
      },
      "text/plain": [
       "Output()"
      ]
     },
     "metadata": {},
     "output_type": "display_data"
    }
   ],
   "source": [
    "gen_recipe_comparison(example_recipe, estim_recipe)"
   ]
  },
  {
   "cell_type": "code",
   "execution_count": 594,
   "metadata": {},
   "outputs": [],
   "source": [
    "def full_widget_output(recipe, nutrient_info):\n",
    "    fda_label = gen_fda_label_from_recipe(recipe, nutrient_info)\n",
    "    estim_recipe = solve_recipe(recipe, nutrient_info)\n",
    "    results_table = gen_recipe_comparison(recipe, estim_recipe)\n",
    "    \n",
    "    widget = ipw.HBox(\n",
    "        [\n",
    "            fda_label,\n",
    "            results_table\n",
    "        ],\n",
    "        layout=ipw.Layout(\n",
    "            width='800px',\n",
    "            justify_content='space-between'\n",
    "        )\n",
    "    )\n",
    "    \n",
    "    return widget\n",
    "    "
   ]
  },
  {
   "cell_type": "code",
   "execution_count": 595,
   "metadata": {},
   "outputs": [
    {
     "data": {
      "application/vnd.jupyter.widget-view+json": {
       "model_id": "3efbb3a0a3bb46ed96b52d207a7e6856",
       "version_major": 2,
       "version_minor": 0
      },
      "text/plain": [
       "HBox(children=(VBox(children=(HTML(value='<h2>Nutrition Facts</h2>'), Output(), Box(layout=Layout(height='5px'…"
      ]
     },
     "metadata": {},
     "output_type": "display_data"
    }
   ],
   "source": [
    "full_widget_output(example_recipe, nutrient_info)"
   ]
  },
  {
   "cell_type": "code",
   "execution_count": 596,
   "metadata": {},
   "outputs": [],
   "source": [
    "def widget_wrapper(**recipe):\n",
    "    display(full_widget_output(recipe, nutrient_info))"
   ]
  },
  {
   "cell_type": "code",
   "execution_count": 597,
   "metadata": {},
   "outputs": [],
   "source": [
    "inter_out = ipw.interactive_output(widget_wrapper, sliders)"
   ]
  },
  {
   "cell_type": "code",
   "execution_count": 598,
   "metadata": {},
   "outputs": [
    {
     "data": {
      "application/vnd.jupyter.widget-view+json": {
       "model_id": "7227a69fd02d4e30990521e19070fb93",
       "version_major": 2,
       "version_minor": 0
      },
      "text/plain": [
       "VBox(children=(VBox(children=(IntSlider(value=72, description='Tomatoes', max=150), IntSlider(value=74, descri…"
      ]
     },
     "metadata": {},
     "output_type": "display_data"
    }
   ],
   "source": [
    "ipw.VBox([\n",
    "    slider_box,\n",
    "    inter_out\n",
    "])"
   ]
  },
  {
   "cell_type": "code",
   "execution_count": 599,
   "metadata": {},
   "outputs": [],
   "source": [
    "class RecipeWidget(ipw.VBox):\n",
    "    def __init__(self, recipe=None):\n",
    "        if recipe is None:\n",
    "            self.recipe = example_recipe\n",
    "        else:\n",
    "            self.recipe = recipe\n",
    "            \n",
    "        self.do_calculations()\n",
    "        self.init_outputs()\n",
    "        self.init_layout()\n",
    "    \n",
    "    def do_calculations(self):\n",
    "        self.estim_recipe = solve_recipe(self.recipe, nutrient_info)\n",
    "    \n",
    "    def init_sliders(self):\n",
    "        ingredients = list(self.recipe.keys())\n",
    "        self.sliders = [\n",
    "            ipw.IntSlider(\n",
    "                description=ingredient,\n",
    "                value=self.recipe[ingredient],\n",
    "                min=0, \n",
    "                max=150\n",
    "            )\n",
    "            for ingredient in ingredients\n",
    "        ]\n",
    "        self.slider_box = ipw.VBox(self.sliders)\n",
    "    \n",
    "    def init_outputs(self):\n",
    "        self.init_sliders()\n",
    "        \n",
    "        self.fda_label = gen_fda_label_from_recipe(self.recipe, nutrient_info)\n",
    "        self.results_table = gen_recipe_comparison(self.recipe, self.estim_recipe)\n",
    "    \n",
    "    def init_layout(self):\n",
    "        super().__init__([\n",
    "            ipw.HBox(\n",
    "                [\n",
    "                    self.fda_label,\n",
    "                    ipw.VBox([\n",
    "                        self.slider_box,\n",
    "                        self.results_table\n",
    "                    ])\n",
    "                ],\n",
    "                layout=ipw.Layout(\n",
    "                    width='800px',\n",
    "                    justify_content='space-between'\n",
    "                )\n",
    "            )\n",
    "        ])"
   ]
  },
  {
   "cell_type": "code",
   "execution_count": 600,
   "metadata": {},
   "outputs": [
    {
     "data": {
      "application/vnd.jupyter.widget-view+json": {
       "model_id": "0dfd6845afd341a391b283225b2feb46",
       "version_major": 2,
       "version_minor": 0
      },
      "text/plain": [
       "RecipeWidget(children=(HBox(children=(VBox(children=(HTML(value='<h2>Nutrition Facts</h2>'), Output(), Box(lay…"
      ]
     },
     "metadata": {},
     "output_type": "display_data"
    }
   ],
   "source": [
    "RecipeWidget()"
   ]
  },
  {
   "cell_type": "code",
   "execution_count": null,
   "metadata": {},
   "outputs": [],
   "source": []
  },
  {
   "cell_type": "code",
   "execution_count": null,
   "metadata": {},
   "outputs": [],
   "source": []
  }
 ],
 "metadata": {
  "kernelspec": {
   "display_name": "Python 3",
   "language": "python",
   "name": "python3"
  },
  "language_info": {
   "codemirror_mode": {
    "name": "ipython",
    "version": 3
   },
   "file_extension": ".py",
   "mimetype": "text/x-python",
   "name": "python",
   "nbconvert_exporter": "python",
   "pygments_lexer": "ipython3",
   "version": "3.7.2"
  }
 },
 "nbformat": 4,
 "nbformat_minor": 2
}
