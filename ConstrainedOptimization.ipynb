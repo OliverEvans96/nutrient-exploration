{
 "cells": [
  {
   "cell_type": "markdown",
   "metadata": {
    "toc-hr-collapsed": false
   },
   "source": [
    "# Estimate Ingredient Quantites from Nutrient Info\n",
    "\n",
    "Given a food product with an FDA label listing $d$ nutrient quantities (e.g. Calories, carbohydrates, etc.) and $p$ ingredients ordered by weight, we calculate the quantity of each ingredient in the product.\n",
    "\n",
    "We take a constrained optimization approach, seeking the optimal solution $x$ to the linear system $Ax=b$, where $A$ is a matrix describing the nutrient contents of the ingredients, $b$ is a vector listing the total nutrient contents of the products, and $x$ is the quantity of each ingredient.\n",
    "\n",
    "The system is subject to the following constraints:\n",
    "- All ingredient quantities are positive ($x>0$)\n",
    "- The ingredient quantities are ordered ($x_{i+1}>x_i$) as given in the ingredients list.\n",
    "\n",
    "**NOTE:** When the number of ingredients is greater than the number of nutrients on the FDA label (when $p>d$), there is no unique solution, and further analysis is required to construct bounds for the nutrient quantities. "
   ]
  },
  {
   "cell_type": "markdown",
   "metadata": {},
   "source": [
    "## Imports"
   ]
  },
  {
   "cell_type": "code",
   "execution_count": 1,
   "metadata": {},
   "outputs": [],
   "source": [
    "import numpy as np\n",
    "import scipy.optimize as optim"
   ]
  },
  {
   "cell_type": "markdown",
   "metadata": {},
   "source": [
    "## Synthesize Data"
   ]
  },
  {
   "cell_type": "code",
   "execution_count": 2,
   "metadata": {},
   "outputs": [],
   "source": [
    "def gen_data(d, p):\n",
    "    \"\"\"\n",
    "    d = Number of FDA requirements (known)\n",
    "    p = Number of ingredients\n",
    "    \"\"\"\n",
    "    \n",
    "    # Coefficient matrix:\n",
    "    # FDA nutrient info for each ingredient\n",
    "    # - each column is an ingredient\n",
    "    # - FDA nutrient varies over rows\n",
    "    # - Sorted in order of increasing quantity (first is smallest)\n",
    "    A = np.random.rand(d, p)\n",
    "\n",
    "    # Quantities of each ingredient, sorted in increasing order.\n",
    "    # (correct solution)\n",
    "    x = np.sort(np.random.rand(p))\n",
    "\n",
    "    # Sum FDA nutrients of the product\n",
    "    b = A@x\n",
    "    \n",
    "    return A, x, b"
   ]
  },
  {
   "cell_type": "markdown",
   "metadata": {},
   "source": [
    "## Solve optimization problem"
   ]
  },
  {
   "cell_type": "code",
   "execution_count": 3,
   "metadata": {},
   "outputs": [],
   "source": [
    "def estim_quantities(A, b, tol=None):\n",
    "    # Objective function\n",
    "    def obj(x):\n",
    "        return np.sum((A@x-b)**2)\n",
    "\n",
    "    # Ordering constraint matrix\n",
    "    # each row: c_i^T * x >= 0\n",
    "    C = np.zeros([p, p])\n",
    "    # Require that each value is larger than the previous\n",
    "    for i in range(p):\n",
    "        for j in range(p):\n",
    "            if i == j:\n",
    "                C[i,j] = 1\n",
    "            elif j == i-1:\n",
    "                C[i,j] = -1\n",
    "\n",
    "    # non-negative constraint (0 <= c_i^T *x <= inf)\n",
    "    lin_const = optim.LinearConstraint(C, 0, np.inf, keep_feasible=False)\n",
    "    \n",
    "    # Solve!\n",
    "    result = optim.minimize(obj, np.zeros(p), method=\"COBYLA\", constraints=lin_const, tol=tol)\n",
    "\n",
    "    return result"
   ]
  },
  {
   "cell_type": "markdown",
   "metadata": {},
   "source": [
    "## Apply some noise to simulate real data"
   ]
  },
  {
   "cell_type": "code",
   "execution_count": 4,
   "metadata": {},
   "outputs": [],
   "source": [
    "def apply_noise(A, z):\n",
    "    return A * (1.0 + z * 2*(np.random.rand(*np.shape(A))-0.5))"
   ]
  },
  {
   "cell_type": "markdown",
   "metadata": {},
   "source": [
    "## Test it out!"
   ]
  },
  {
   "cell_type": "code",
   "execution_count": 5,
   "metadata": {},
   "outputs": [
    {
     "name": "stdout",
     "output_type": "stream",
     "text": [
      "\n",
      "Without noise:\n",
      "rel. err. = 2.69e-03\n",
      "\n",
      "With noise (zA=5.00e-02, zb=5.00e-02):\n",
      "rel. err. = 1.47e-01\n"
     ]
    }
   ],
   "source": [
    "# Number of FDA requirements (known)\n",
    "d = 10\n",
    "# Number of ingredients\n",
    "p = 5\n",
    "# Relative noise to apply to A (reported FDA vals. for ingredients)\n",
    "zA = 0.05\n",
    "# Relative noise to apply to b (reported FDA vals. for product)\n",
    "zb = 0.05\n",
    "\n",
    "# Generate data & apply noise\n",
    "A, x, b = gen_data(d, p)\n",
    "A_noise = apply_noise(A, zA)\n",
    "b_noise = apply_noise(b, zb)\n",
    "\n",
    "#print(\"x = {}\".format(x))\n",
    "print()\n",
    "\n",
    "print(\"Without noise:\")\n",
    "res = estim_quantities(A, b)\n",
    "x_star = res.x\n",
    "#print(\"x* = {}\".format(x_star))\n",
    "print(\"rel. err. = {:.2e}\".format(np.linalg.norm(x-x_star)/np.linalg.norm(x)))\n",
    "print()\n",
    "\n",
    "print(\"With noise (zA={:.2e}, zb={:.2e}):\".format(zA, zb))\n",
    "res = estim_quantities(A_noise, b_noise)\n",
    "x_star = res.x\n",
    "#print(\"x_n* = {}\".format(x_star))\n",
    "print(\"rel. err. = {:.2e}\".format(np.linalg.norm(x-x_star)/np.linalg.norm(x)))"
   ]
  },
  {
   "cell_type": "code",
   "execution_count": 6,
   "metadata": {},
   "outputs": [],
   "source": [
    "import qgrid\n",
    "import pandas as pd"
   ]
  },
  {
   "cell_type": "code",
   "execution_count": 7,
   "metadata": {},
   "outputs": [],
   "source": [
    "import ipywidgets as ipw"
   ]
  },
  {
   "cell_type": "code",
   "execution_count": 8,
   "metadata": {},
   "outputs": [],
   "source": [
    "from IPython.display import display, Markdown"
   ]
  },
  {
   "cell_type": "markdown",
   "metadata": {},
   "source": [
    "## FDA Nutrient Table"
   ]
  },
  {
   "cell_type": "code",
   "execution_count": 112,
   "metadata": {},
   "outputs": [],
   "source": [
    "def disp_nutrient_table(nutrients, vals):\n",
    "    display(Markdown(\n",
    "        \"| Nutrient | Value |\\n|---|---|\\n\"\n",
    "        + '\\n'.join([\n",
    "            \"| {} | {:.2f} |\".format(nutrient, val)\n",
    "            for nutrient, val in zip(nutrients, vals)\n",
    "        ])\n",
    "    ))\n",
    "\n",
    "    \n",
    "def gen_fda_label(ingredients, nutrients, vals):\n",
    "    inner_tab = ipw.Output()\n",
    "    with inner_tab:\n",
    "        disp_table(nutrients, vals)\n",
    "    return ipw.VBox(\n",
    "        [\n",
    "            ipw.HTML(\"<h2>Nutrition Facts</h2>\",),\n",
    "            inner_tab,\n",
    "            ipw.Box(layout=ipw.Layout(height='5px')),\n",
    "            ipw.HTML(\"<b>Ingredients:</b> {}\".format(\n",
    "                ', '.join(ingredients)\n",
    "            ))\n",
    "            \n",
    "        ],\n",
    "        layout=ipw.Layout(\n",
    "            border='1px solid black',\n",
    "            width='200px',\n",
    "            align_items='center',\n",
    "        )\n",
    "    )"
   ]
  },
  {
   "cell_type": "code",
   "execution_count": 113,
   "metadata": {},
   "outputs": [],
   "source": [
    "ingredients = [\n",
    "    'tomato',\n",
    "    'sugar',\n",
    "    'onion',\n",
    "    'garlic',\n",
    "    'squash'\n",
    "]"
   ]
  },
  {
   "cell_type": "code",
   "execution_count": 116,
   "metadata": {},
   "outputs": [
    {
     "data": {
      "application/vnd.jupyter.widget-view+json": {
       "model_id": "6324dc90481d47e385ba7c9209e3ed05",
       "version_major": 2,
       "version_minor": 0
      },
      "text/plain": [
       "VBox(children=(HTML(value='<h2>Nutrition Facts</h2>'), Output(), Box(layout=Layout(height='5px')), HTML(value=…"
      ]
     },
     "metadata": {},
     "output_type": "display_data"
    }
   ],
   "source": [
    "gen_fda_label(ingredients, nutrients, vals)"
   ]
  },
  {
   "cell_type": "markdown",
   "metadata": {},
   "source": [
    "## Ingredients Nutrition Data"
   ]
  },
  {
   "cell_type": "code",
   "execution_count": 177,
   "metadata": {},
   "outputs": [],
   "source": [
    "def parse_fda_db_csv(filename):\n",
    "    nutrient_name_map = {\n",
    "        'Calories': 'Energy',\n",
    "        'Total Fat': 'Total lipid (fat)',\n",
    "        'Cholesterol': 'Cholesterol',\n",
    "        'Sodium': 'Sodium, Na',\n",
    "        'Total Carbohydrate': 'Carbohydrate, by difference',\n",
    "        'Dietary Fiber': 'Fiber, total dietary',\n",
    "        'Total Sugars': 'Sugars, total',\n",
    "        'Protein': 'Protein'\n",
    "    }\n",
    "    \n",
    "    df = pd.read_csv(filename, skiprows=4, encoding='latin1')\n",
    "    nut_dict = {}\n",
    "    for name_common, name_db in nutrient_name_map.items():\n",
    "        filtered_df = df[df['Nutrient']==name_db]\n",
    "        if len(filtered_df) > 0:\n",
    "            # Convert from value per 100g to value per 1g\n",
    "            nut_val = filtered_df['1Value per 100 g'].iloc[0] / 100\n",
    "            nut_units = filtered_df['Unit'].iloc[0]\n",
    "            name_with_units = '{} ({}/g)'.format(name_common, nut_units)\n",
    "            nut_dict[name_with_units] = nut_val\n",
    "    return nut_dict"
   ]
  },
  {
   "cell_type": "code",
   "execution_count": 178,
   "metadata": {},
   "outputs": [
    {
     "data": {
      "text/plain": [
       "{'Calories (kcal/g)': 1.49,\n",
       " 'Total Fat (g/g)': 0.005,\n",
       " 'Cholesterol (mg/g)': 0.0,\n",
       " 'Sodium (mg/g)': 0.17,\n",
       " 'Total Carbohydrate (g/g)': 0.3306,\n",
       " 'Dietary Fiber (g/g)': 0.021,\n",
       " 'Total Sugars (g/g)': 0.01,\n",
       " 'Protein (g/g)': 0.0636}"
      ]
     },
     "execution_count": 178,
     "metadata": {},
     "output_type": "execute_result"
    }
   ],
   "source": [
    "parse_fda_db_csv('garlic.csv')"
   ]
  },
  {
   "cell_type": "code",
   "execution_count": 179,
   "metadata": {},
   "outputs": [],
   "source": [
    "ingredients = [\n",
    "    'Broccoli',\n",
    "    'Carrots',\n",
    "    'Onions',\n",
    "    'Garlic',\n",
    "    'Tomatoes'\n",
    "]"
   ]
  },
  {
   "cell_type": "code",
   "execution_count": 184,
   "metadata": {},
   "outputs": [],
   "source": [
    "nutrient_info = {\n",
    "    ingredient: parse_fda_db_csv('ingredient_data/{}.csv'.format(ingredient.lower()))\n",
    "    for ingredient in ingredients\n",
    "}"
   ]
  },
  {
   "cell_type": "code",
   "execution_count": 185,
   "metadata": {},
   "outputs": [
    {
     "data": {
      "text/html": [
       "<div>\n",
       "<style scoped>\n",
       "    .dataframe tbody tr th:only-of-type {\n",
       "        vertical-align: middle;\n",
       "    }\n",
       "\n",
       "    .dataframe tbody tr th {\n",
       "        vertical-align: top;\n",
       "    }\n",
       "\n",
       "    .dataframe thead th {\n",
       "        text-align: right;\n",
       "    }\n",
       "</style>\n",
       "<table border=\"1\" class=\"dataframe\">\n",
       "  <thead>\n",
       "    <tr style=\"text-align: right;\">\n",
       "      <th></th>\n",
       "      <th>Broccoli</th>\n",
       "      <th>Carrots</th>\n",
       "      <th>Onions</th>\n",
       "      <th>Garlic</th>\n",
       "      <th>Tomatoes</th>\n",
       "    </tr>\n",
       "  </thead>\n",
       "  <tbody>\n",
       "    <tr>\n",
       "      <th>Calories (kcal/g)</th>\n",
       "      <td>0.3400</td>\n",
       "      <td>0.3400</td>\n",
       "      <td>0.4000</td>\n",
       "      <td>1.4900</td>\n",
       "      <td>0.1800</td>\n",
       "    </tr>\n",
       "    <tr>\n",
       "      <th>Cholesterol (mg/g)</th>\n",
       "      <td>0.0000</td>\n",
       "      <td>0.0000</td>\n",
       "      <td>0.0000</td>\n",
       "      <td>0.0000</td>\n",
       "      <td>0.0000</td>\n",
       "    </tr>\n",
       "    <tr>\n",
       "      <th>Dietary Fiber (g/g)</th>\n",
       "      <td>0.0260</td>\n",
       "      <td>0.0260</td>\n",
       "      <td>0.0170</td>\n",
       "      <td>0.0210</td>\n",
       "      <td>0.0120</td>\n",
       "    </tr>\n",
       "    <tr>\n",
       "      <th>Protein (g/g)</th>\n",
       "      <td>0.0282</td>\n",
       "      <td>0.0282</td>\n",
       "      <td>0.0110</td>\n",
       "      <td>0.0636</td>\n",
       "      <td>0.0088</td>\n",
       "    </tr>\n",
       "    <tr>\n",
       "      <th>Sodium (mg/g)</th>\n",
       "      <td>0.3300</td>\n",
       "      <td>0.3300</td>\n",
       "      <td>0.0400</td>\n",
       "      <td>0.1700</td>\n",
       "      <td>0.0500</td>\n",
       "    </tr>\n",
       "    <tr>\n",
       "      <th>Total Carbohydrate (g/g)</th>\n",
       "      <td>0.0664</td>\n",
       "      <td>0.0664</td>\n",
       "      <td>0.0934</td>\n",
       "      <td>0.3306</td>\n",
       "      <td>0.0389</td>\n",
       "    </tr>\n",
       "    <tr>\n",
       "      <th>Total Fat (g/g)</th>\n",
       "      <td>0.0037</td>\n",
       "      <td>0.0037</td>\n",
       "      <td>0.0010</td>\n",
       "      <td>0.0050</td>\n",
       "      <td>0.0020</td>\n",
       "    </tr>\n",
       "    <tr>\n",
       "      <th>Total Sugars (g/g)</th>\n",
       "      <td>0.0170</td>\n",
       "      <td>0.0170</td>\n",
       "      <td>0.0424</td>\n",
       "      <td>0.0100</td>\n",
       "      <td>0.0263</td>\n",
       "    </tr>\n",
       "  </tbody>\n",
       "</table>\n",
       "</div>"
      ],
      "text/plain": [
       "                          Broccoli  Carrots  Onions  Garlic  Tomatoes\n",
       "Calories (kcal/g)           0.3400   0.3400  0.4000  1.4900    0.1800\n",
       "Cholesterol (mg/g)          0.0000   0.0000  0.0000  0.0000    0.0000\n",
       "Dietary Fiber (g/g)         0.0260   0.0260  0.0170  0.0210    0.0120\n",
       "Protein (g/g)               0.0282   0.0282  0.0110  0.0636    0.0088\n",
       "Sodium (mg/g)               0.3300   0.3300  0.0400  0.1700    0.0500\n",
       "Total Carbohydrate (g/g)    0.0664   0.0664  0.0934  0.3306    0.0389\n",
       "Total Fat (g/g)             0.0037   0.0037  0.0010  0.0050    0.0020\n",
       "Total Sugars (g/g)          0.0170   0.0170  0.0424  0.0100    0.0263"
      ]
     },
     "execution_count": 185,
     "metadata": {},
     "output_type": "execute_result"
    }
   ],
   "source": [
    "nutrient_info_df = pd.DataFrame(nutrient_info)\n",
    "nutrient_info_df"
   ]
  },
  {
   "cell_type": "code",
   "execution_count": 222,
   "metadata": {},
   "outputs": [],
   "source": [
    "example_recipe = {\n",
    "    'Tomatoes': 100,\n",
    "    'Onions': 50,\n",
    "    'Garlic': 30,\n",
    "    'Broccoli': 50,\n",
    "    'Carrots': 60\n",
    "}"
   ]
  },
  {
   "cell_type": "code",
   "execution_count": 223,
   "metadata": {},
   "outputs": [],
   "source": [
    "def calculate_nutrition_facts(recipe, nutrient_info):\n",
    "    nutrition_facts = {\n",
    "        nutrient: 0.0\n",
    "        for nutrient in nutrient_info[list(nutrient_info.keys())[0]].keys()\n",
    "    }\n",
    "    \n",
    "    # quantities in grams\n",
    "    for ingredient, quantity in recipe.items():\n",
    "        for nutrient, value in nutrient_info[ingredient].items():\n",
    "            nutrition_facts[nutrient] += quantity * value\n",
    "            \n",
    "    return nutrition_facts     "
   ]
  },
  {
   "cell_type": "code",
   "execution_count": 224,
   "metadata": {},
   "outputs": [],
   "source": [
    "def sort_ingredient_list(recipe):\n",
    "    # Return list of ingredients in decreasing order of quantity in grams\n",
    "    return [x[0] for x in reversed(sorted(recipe.items(), key=lambda x: x[1]))]"
   ]
  },
  {
   "cell_type": "code",
   "execution_count": 225,
   "metadata": {},
   "outputs": [
    {
     "data": {
      "text/plain": [
       "['Tomatoes', 'Carrots', 'Broccoli', 'Onions', 'Garlic']"
      ]
     },
     "execution_count": 225,
     "metadata": {},
     "output_type": "execute_result"
    }
   ],
   "source": [
    "ingredient_list = sort_ingredient_list(example_recipe)\n",
    "ingredient_list"
   ]
  },
  {
   "cell_type": "code",
   "execution_count": 227,
   "metadata": {},
   "outputs": [
    {
     "data": {
      "text/plain": [
       "{'Calories (kcal/g)': 120.10000000000001,\n",
       " 'Total Fat (g/g)': 0.8069999999999999,\n",
       " 'Cholesterol (mg/g)': 0.0,\n",
       " 'Sodium (mg/g)': 48.400000000000006,\n",
       " 'Total Carbohydrate (g/g)': 25.782000000000004,\n",
       " 'Dietary Fiber (g/g)': 5.539999999999999,\n",
       " 'Total Sugars (g/g)': 6.92,\n",
       " 'Protein (g/g)': 6.44}"
      ]
     },
     "execution_count": 227,
     "metadata": {},
     "output_type": "execute_result"
    }
   ],
   "source": [
    "nutrition_facts = calculate_nutrition_facts(example_recipe, nutrient_info)\n",
    "nutrition_facts"
   ]
  },
  {
   "cell_type": "code",
   "execution_count": 228,
   "metadata": {},
   "outputs": [
    {
     "data": {
      "application/vnd.jupyter.widget-view+json": {
       "model_id": "5fd8e5c0b44e49b9a913e326452ed020",
       "version_major": 2,
       "version_minor": 0
      },
      "text/plain": [
       "VBox(children=(HTML(value='<h2>Nutrition Facts</h2>'), Output(), Box(layout=Layout(height='5px')), HTML(value=…"
      ]
     },
     "metadata": {},
     "output_type": "display_data"
    }
   ],
   "source": [
    "gen_fda_label(ingredient_list, nutrition_facts.keys(), nutrition_facts.values())"
   ]
  },
  {
   "cell_type": "code",
   "execution_count": 230,
   "metadata": {},
   "outputs": [],
   "source": [
    "def disp_fda_label_from_recipe(recipe, nutrition_facts):\n",
    "    ingredient_list = sort_ingredient_list(recipe)\n",
    "    nutrition_facts = calculate_nutrition_facts(recipe, nutrient_info)\n",
    "    display(gen_fda_label(ingredient_list, nutrition_facts.keys(), nutrition_facts.values()))"
   ]
  },
  {
   "cell_type": "code",
   "execution_count": 232,
   "metadata": {},
   "outputs": [
    {
     "data": {
      "application/vnd.jupyter.widget-view+json": {
       "model_id": "0b583f9cc56344d7b777466e51809923",
       "version_major": 2,
       "version_minor": 0
      },
      "text/plain": [
       "VBox(children=(HTML(value='<h2>Nutrition Facts</h2>'), Output(), Box(layout=Layout(height='5px')), HTML(value=…"
      ]
     },
     "metadata": {},
     "output_type": "display_data"
    }
   ],
   "source": [
    "disp_fda_label_from_recipe(example_recipe, nutrition_facts)"
   ]
  },
  {
   "cell_type": "code",
   "execution_count": 239,
   "metadata": {},
   "outputs": [],
   "source": [
    "def recipe_wrapper(nutrition_facts, **recipe):\n",
    "    return disp_fda_label_from_recipe(recipe, nutrition_facts)"
   ]
  },
  {
   "cell_type": "code",
   "execution_count": 242,
   "metadata": {},
   "outputs": [
    {
     "data": {
      "text/plain": [
       "{'Tomatoes': (0, 500, 100),\n",
       " 'Onions': (0, 500, 50),\n",
       " 'Garlic': (0, 500, 30),\n",
       " 'Broccoli': (0, 500, 50),\n",
       " 'Carrots': (0, 500, 60)}"
      ]
     },
     "execution_count": 242,
     "metadata": {},
     "output_type": "execute_result"
    }
   ],
   "source": [
    "{\n",
    "        ingredient: (0, 500, quantity) \n",
    "        for ingredient, quantity in example_recipe.items()\n",
    "    }"
   ]
  },
  {
   "cell_type": "code",
   "execution_count": 267,
   "metadata": {},
   "outputs": [],
   "source": [
    "slider_dict = {\n",
    "    ingredient: ipw.IntSlider(min=0, max=150, value=quantity, description=ingredient) \n",
    "    for ingredient, quantity in example_recipe.items()\n",
    "}\n",
    "\n",
    "slider_box = ipw.VBox([\n",
    "    slider for ingredient, slider in slider_dict.items()\n",
    "])\n",
    "\n",
    "label_out = ipw.Output()\n",
    "\n",
    "ui = ipw.HBox([\n",
    "    slider_box,\n",
    "    label_out\n",
    "])"
   ]
  },
  {
   "cell_type": "code",
   "execution_count": 269,
   "metadata": {},
   "outputs": [
    {
     "data": {
      "application/vnd.jupyter.widget-view+json": {
       "model_id": "42d978351b3540c780a0f66bf76b2bf1",
       "version_major": 2,
       "version_minor": 0
      },
      "text/plain": [
       "interactive(children=(IntSlider(value=100, description='Tomatoes', max=150), IntSlider(value=50, description='…"
      ]
     },
     "metadata": {},
     "output_type": "display_data"
    },
    {
     "data": {
      "text/plain": [
       "<function __main__.recipe_wrapper(nutrition_facts, **recipe)>"
      ]
     },
     "execution_count": 269,
     "metadata": {},
     "output_type": "execute_result"
    }
   ],
   "source": [
    "ipw.interact(\n",
    "    recipe_wrapper, \n",
    "    nutrition_facts=ipw.fixed(nutrition_facts), \n",
    "    **slider_dict\n",
    ")"
   ]
  },
  {
   "cell_type": "markdown",
   "metadata": {},
   "source": [
    "## Solve, too."
   ]
  },
  {
   "cell_type": "code",
   "execution_count": null,
   "metadata": {},
   "outputs": [],
   "source": []
  }
 ],
 "metadata": {
  "kernelspec": {
   "display_name": "Python 3",
   "language": "python",
   "name": "python3"
  },
  "language_info": {
   "codemirror_mode": {
    "name": "ipython",
    "version": 3
   },
   "file_extension": ".py",
   "mimetype": "text/x-python",
   "name": "python",
   "nbconvert_exporter": "python",
   "pygments_lexer": "ipython3",
   "version": "3.7.2"
  }
 },
 "nbformat": 4,
 "nbformat_minor": 2
}
