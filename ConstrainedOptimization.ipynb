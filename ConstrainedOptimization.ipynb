{
 "cells": [
  {
   "cell_type": "markdown",
   "metadata": {},
   "source": [
    "# Estimate Ingredient Quantites from Nutrient Info\n",
    "\n",
    "Given a food product with an FDA label listing $d$ nutrient quantities (e.g. Calories, carbohydrates, etc.) and $p$ ingredients ordered by weight, we calculate the quantity of each ingredient in the product.\n",
    "\n",
    "We take a constrained optimization approach, seeking the optimal solution $x$ to the linear system $Ax=b$, where $A$ is a matrix describing the nutrient contents of the ingredients, $b$ is a vector listing the total nutrient contents of the products, and $x$ is the quantity of each ingredient.\n",
    "\n",
    "The system is subject to the following constraints:\n",
    "- All ingredient quantities are positive ($x>0$)\n",
    "- The ingredient quantities are ordered ($x_{i+1}>x_i$) as given in the ingredients list.\n",
    "\n",
    "**NOTE:** When the number of ingredients is greater than the number of nutrients on the FDA label (when $p>d$), there is no unique solution, and further analysis is required to construct bounds for the nutrient quantities. "
   ]
  },
  {
   "cell_type": "markdown",
   "metadata": {},
   "source": [
    "## Imports"
   ]
  },
  {
   "cell_type": "code",
   "execution_count": 123,
   "metadata": {},
   "outputs": [],
   "source": [
    "import numpy as np\n",
    "import scipy.optimize as optim\n",
    "import matplotlib.pyplot as plt"
   ]
  },
  {
   "cell_type": "code",
   "execution_count": 124,
   "metadata": {},
   "outputs": [],
   "source": [
    "%matplotlib inline"
   ]
  },
  {
   "cell_type": "markdown",
   "metadata": {},
   "source": [
    "## Synthesize Data"
   ]
  },
  {
   "cell_type": "code",
   "execution_count": 125,
   "metadata": {},
   "outputs": [],
   "source": [
    "def gen_data(d, p):\n",
    "    \"\"\"\n",
    "    d = Number of FDA requirements (known)\n",
    "    p = Number of ingredients\n",
    "    \"\"\"\n",
    "    \n",
    "    # Coefficient matrix:\n",
    "    # FDA nutrient info for each ingredient\n",
    "    # - each column is an ingredient\n",
    "    # - FDA nutrient varies over rows\n",
    "    # - Sorted in order of increasing quantity (first is smallest)\n",
    "    A = np.random.rand(d, p)\n",
    "\n",
    "    # Quantities of each ingredient, sorted in increasing order.\n",
    "    # (correct solution)\n",
    "    x = np.sort(np.random.rand(p))\n",
    "\n",
    "    # Sum FDA nutrients of the product\n",
    "    b = A@x\n",
    "    \n",
    "    return A, x, b"
   ]
  },
  {
   "cell_type": "markdown",
   "metadata": {},
   "source": [
    "## Solve optimization problem"
   ]
  },
  {
   "cell_type": "code",
   "execution_count": 126,
   "metadata": {},
   "outputs": [],
   "source": [
    "def estim_quantities(A, b, tol=None):\n",
    "    # Objective function\n",
    "    def obj(x):\n",
    "        return np.sum((A@x-b)**2)\n",
    "\n",
    "    # Ordering constraint matrix\n",
    "    # each row: c_i^T * x >= 0\n",
    "    C = np.zeros([p, p])\n",
    "    # Require that each value is larger than the previous\n",
    "    for i in range(p):\n",
    "        for j in range(p):\n",
    "            if i == j:\n",
    "                C[i,j] = 1\n",
    "            elif j == i-1:\n",
    "                C[i,j] = -1\n",
    "\n",
    "    # non-negative constraint (0 <= c_i^T *x <= inf)\n",
    "    lin_const = optim.LinearConstraint(C, 0, np.inf, keep_feasible=False)\n",
    "    \n",
    "    # Solve!\n",
    "    result = optim.minimize(obj, np.zeros(p), method=\"COBYLA\", constraints=lin_const, tol=tol)\n",
    "\n",
    "    return result"
   ]
  },
  {
   "cell_type": "markdown",
   "metadata": {},
   "source": [
    "## Apply some noise to simulate real data"
   ]
  },
  {
   "cell_type": "code",
   "execution_count": 127,
   "metadata": {},
   "outputs": [],
   "source": [
    "def apply_noise(A, z):\n",
    "    return A * (1.0 + z * 2*(np.random.rand(*np.shape(A))-0.5))"
   ]
  },
  {
   "cell_type": "markdown",
   "metadata": {},
   "source": [
    "## Test it out!"
   ]
  },
  {
   "cell_type": "code",
   "execution_count": 128,
   "metadata": {},
   "outputs": [
    {
     "name": "stdout",
     "output_type": "stream",
     "text": [
      "\n",
      "Without noise:\n",
      "rel. err. = 1.22e-03\n",
      "\n",
      "With noise (zA=5.00e-02, zb=5.00e-02):\n",
      "rel. err. = 5.21e-02\n"
     ]
    }
   ],
   "source": [
    "# Number of FDA requirements (known)\n",
    "d = 10\n",
    "# Number of ingredients\n",
    "p = 5\n",
    "# Relative noise to apply to A (reported FDA vals. for ingredients)\n",
    "zA = 0.05\n",
    "# Relative noise to apply to b (reported FDA vals. for product)\n",
    "zb = 0.05\n",
    "\n",
    "# Generate data & apply noise\n",
    "A, x, b = gen_data(d, p)\n",
    "A_noise = apply_noise(A, zA)\n",
    "b_noise = apply_noise(b, zb)\n",
    "\n",
    "#print(\"x = {}\".format(x))\n",
    "print()\n",
    "\n",
    "print(\"Without noise:\")\n",
    "res = estim_quantities(A, b)\n",
    "x_star = res.x\n",
    "#print(\"x* = {}\".format(x_star))\n",
    "print(\"rel. err. = {:.2e}\".format(np.linalg.norm(x-x_star)/np.linalg.norm(x)))\n",
    "print()\n",
    "\n",
    "print(\"With noise (zA={:.2e}, zb={:.2e}):\".format(zA, zb))\n",
    "res = estim_quantities(A_noise, b_noise)\n",
    "x_star = res.x\n",
    "#print(\"x_n* = {}\".format(x_star))\n",
    "print(\"rel. err. = {:.2e}\".format(np.linalg.norm(x-x_star)/np.linalg.norm(x)))"
   ]
  }
 ],
 "metadata": {
  "kernelspec": {
   "display_name": "Python 3",
   "language": "python",
   "name": "python3"
  },
  "language_info": {
   "codemirror_mode": {
    "name": "ipython",
    "version": 3
   },
   "file_extension": ".py",
   "mimetype": "text/x-python",
   "name": "python",
   "nbconvert_exporter": "python",
   "pygments_lexer": "ipython3",
   "version": "3.7.0"
  }
 },
 "nbformat": 4,
 "nbformat_minor": 2
}
